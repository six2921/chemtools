{
 "cells": [
  {
   "cell_type": "code",
   "execution_count": null,
   "id": "858449a5",
   "metadata": {},
   "outputs": [],
   "source": [
    "from IPython.core.interactiveshell import InteractiveShell\n",
    "InteractiveShell.ast_node_interactivity = \"all\""
   ]
  },
  {
   "cell_type": "code",
   "execution_count": 2,
   "id": "96355616",
   "metadata": {},
   "outputs": [],
   "source": [
    "mydict = {'ant':80, 'by':40, 'cell': 100}"
   ]
  },
  {
   "cell_type": "markdown",
   "id": "bff4ee6c",
   "metadata": {},
   "source": [
    "## 인덱싱"
   ]
  },
  {
   "cell_type": "code",
   "execution_count": 3,
   "id": "3384f511",
   "metadata": {},
   "outputs": [
    {
     "data": {
      "text/plain": [
       "dict_values([80, 40, 100])"
      ]
     },
     "execution_count": 3,
     "metadata": {},
     "output_type": "execute_result"
    }
   ],
   "source": [
    "# 딕셔너리 값 반환\n",
    "mydict.items()\n",
    "mydict.keys()\n",
    "mydict.values()"
   ]
  },
  {
   "cell_type": "code",
   "execution_count": 4,
   "id": "573c4f4a",
   "metadata": {},
   "outputs": [
    {
     "data": {
      "text/plain": [
       "80"
      ]
     },
     "execution_count": 4,
     "metadata": {},
     "output_type": "execute_result"
    }
   ],
   "source": [
    "# key 검색과 value 반환\n",
    "'ant' in mydict.keys()\n",
    "mydict['ant']"
   ]
  },
  {
   "cell_type": "code",
   "execution_count": 5,
   "id": "414a656e",
   "metadata": {},
   "outputs": [
    {
     "name": "stdout",
     "output_type": "stream",
     "text": [
      "ant\n",
      "cell\n"
     ]
    },
    {
     "data": {
      "text/plain": [
       "['ant', 'cell']"
      ]
     },
     "execution_count": 5,
     "metadata": {},
     "output_type": "execute_result"
    }
   ],
   "source": [
    "# value로부터 key 반환하는 방법\n",
    "for name, score in mydict.items():   # items 함수는 key, value를 반환\n",
    "    if score >= 80:\n",
    "        print(name)\n",
    "        \n",
    "[name for name, score in mydict.items() if score>=80]  # 한 줄로"
   ]
  },
  {
   "cell_type": "code",
   "execution_count": 6,
   "id": "c9dd0654",
   "metadata": {},
   "outputs": [
    {
     "data": {
      "text/plain": [
       "{'cell': 100, 'ant': 80, 'by': 40}"
      ]
     },
     "execution_count": 6,
     "metadata": {},
     "output_type": "execute_result"
    }
   ],
   "source": [
    "# dictionary 정렬하기 (리스트 형태로 반환)\n",
    "sorted(mydict.items(), key=lambda x : x[1], reverse = True)  # x[1]이면 value 기준으로 정렬\n",
    "\n",
    "# dictionary 정렬하기 (딕셔너리 형태로 반환)\n",
    "dict(sorted(mydict.items(), key=lambda x : x[1], reverse = True))  # 바깥에 dict를 씌우면 됨"
   ]
  },
  {
   "cell_type": "code",
   "execution_count": null,
   "id": "ab682a75",
   "metadata": {},
   "outputs": [],
   "source": []
  },
  {
   "cell_type": "markdown",
   "id": "82e9ef64",
   "metadata": {},
   "source": [
    "## 변환"
   ]
  },
  {
   "cell_type": "code",
   "execution_count": 8,
   "id": "5c3710c8",
   "metadata": {},
   "outputs": [],
   "source": [
    "import pandas as pd\n",
    "df = pd.DataFrame({\n",
    "    'id' : ['id-001','id-002','id-003'],\n",
    "    'price' : [1000,1000,2000],\n",
    "    'num' : [1,1,1],\n",
    "    'color' : ['blue','yellow','blue'],\n",
    "    'type' : ['inner','inner','outer'] \n",
    "})"
   ]
  },
  {
   "cell_type": "code",
   "execution_count": 9,
   "id": "f090540f",
   "metadata": {},
   "outputs": [
    {
     "data": {
      "text/html": [
       "<div>\n",
       "<style scoped>\n",
       "    .dataframe tbody tr th:only-of-type {\n",
       "        vertical-align: middle;\n",
       "    }\n",
       "\n",
       "    .dataframe tbody tr th {\n",
       "        vertical-align: top;\n",
       "    }\n",
       "\n",
       "    .dataframe thead th {\n",
       "        text-align: right;\n",
       "    }\n",
       "</style>\n",
       "<table border=\"1\" class=\"dataframe\">\n",
       "  <thead>\n",
       "    <tr style=\"text-align: right;\">\n",
       "      <th></th>\n",
       "      <th>id</th>\n",
       "      <th>price</th>\n",
       "      <th>num</th>\n",
       "      <th>color</th>\n",
       "      <th>type</th>\n",
       "    </tr>\n",
       "  </thead>\n",
       "  <tbody>\n",
       "    <tr>\n",
       "      <th>0</th>\n",
       "      <td>id-001</td>\n",
       "      <td>1000</td>\n",
       "      <td>1</td>\n",
       "      <td>blue</td>\n",
       "      <td>inner</td>\n",
       "    </tr>\n",
       "    <tr>\n",
       "      <th>1</th>\n",
       "      <td>id-002</td>\n",
       "      <td>1000</td>\n",
       "      <td>1</td>\n",
       "      <td>yellow</td>\n",
       "      <td>inner</td>\n",
       "    </tr>\n",
       "    <tr>\n",
       "      <th>2</th>\n",
       "      <td>id-003</td>\n",
       "      <td>2000</td>\n",
       "      <td>1</td>\n",
       "      <td>blue</td>\n",
       "      <td>outer</td>\n",
       "    </tr>\n",
       "  </tbody>\n",
       "</table>\n",
       "</div>"
      ],
      "text/plain": [
       "       id  price  num   color   type\n",
       "0  id-001   1000    1    blue  inner\n",
       "1  id-002   1000    1  yellow  inner\n",
       "2  id-003   2000    1    blue  outer"
      ]
     },
     "execution_count": 9,
     "metadata": {},
     "output_type": "execute_result"
    }
   ],
   "source": [
    "df"
   ]
  },
  {
   "cell_type": "code",
   "execution_count": 20,
   "id": "916aa4a6",
   "metadata": {},
   "outputs": [
    {
     "data": {
      "text/plain": [
       "{'id-001': {'price': 1000, 'num': 1, 'color': 'blue', 'type': 'inner'},\n",
       " 'id-002': {'price': 1000, 'num': 1, 'color': 'yellow', 'type': 'inner'},\n",
       " 'id-003': {'price': 2000, 'num': 1, 'color': 'blue', 'type': 'outer'}}"
      ]
     },
     "execution_count": 20,
     "metadata": {},
     "output_type": "execute_result"
    }
   ],
   "source": [
    "# 하나의 column을 key 로 딕셔너리 반환 {value of column : []}\n",
    "df.set_index('id').T.to_dict()"
   ]
  },
  {
   "cell_type": "code",
   "execution_count": 13,
   "id": "a30e1517",
   "metadata": {
    "scrolled": true
   },
   "outputs": [
    {
     "data": {
      "text/plain": [
       "{0: {'id': 'id-001',\n",
       "  'price': 1000,\n",
       "  'num': 1,\n",
       "  'color': 'blue',\n",
       "  'type': 'inner'},\n",
       " 1: {'id': 'id-002',\n",
       "  'price': 1000,\n",
       "  'num': 1,\n",
       "  'color': 'yellow',\n",
       "  'type': 'inner'},\n",
       " 2: {'id': 'id-003',\n",
       "  'price': 2000,\n",
       "  'num': 1,\n",
       "  'color': 'blue',\n",
       "  'type': 'outer'}}"
      ]
     },
     "execution_count": 13,
     "metadata": {},
     "output_type": "execute_result"
    }
   ],
   "source": [
    "# 각 row를 딕셔너리로 해서 딕셔너리로 반환 {index : {column1 : value1, column2 : value2}}\n",
    "df.to_dict('index')"
   ]
  },
  {
   "cell_type": "code",
   "execution_count": 16,
   "id": "e4ca6bc0",
   "metadata": {},
   "outputs": [
    {
     "data": {
      "text/plain": [
       "[{'id': 'id-001', 'price': 1000, 'num': 1, 'color': 'blue', 'type': 'inner'},\n",
       " {'id': 'id-002', 'price': 1000, 'num': 1, 'color': 'yellow', 'type': 'inner'},\n",
       " {'id': 'id-003', 'price': 2000, 'num': 1, 'color': 'blue', 'type': 'outer'}]"
      ]
     },
     "execution_count": 16,
     "metadata": {},
     "output_type": "execute_result"
    }
   ],
   "source": [
    "# row를 기준으로 변환\n",
    "df.to_dict('records')"
   ]
  },
  {
   "cell_type": "code",
   "execution_count": 17,
   "id": "8d6d1c98",
   "metadata": {},
   "outputs": [
    {
     "data": {
      "text/plain": [
       "{'id': 0    id-001\n",
       " 1    id-002\n",
       " 2    id-003\n",
       " Name: id, dtype: object,\n",
       " 'price': 0    1000\n",
       " 1    1000\n",
       " 2    2000\n",
       " Name: price, dtype: int64,\n",
       " 'num': 0    1\n",
       " 1    1\n",
       " 2    1\n",
       " Name: num, dtype: int64,\n",
       " 'color': 0      blue\n",
       " 1    yellow\n",
       " 2      blue\n",
       " Name: color, dtype: object,\n",
       " 'type': 0    inner\n",
       " 1    inner\n",
       " 2    outer\n",
       " Name: type, dtype: object}"
      ]
     },
     "execution_count": 17,
     "metadata": {},
     "output_type": "execute_result"
    }
   ],
   "source": [
    "# 컬럼을 기준으로 변환\n",
    "df.to_dict('series')"
   ]
  },
  {
   "cell_type": "code",
   "execution_count": 18,
   "id": "12ff150f",
   "metadata": {},
   "outputs": [
    {
     "data": {
      "text/plain": [
       "{'id': ['id-001', 'id-002', 'id-003'],\n",
       " 'price': [1000, 1000, 2000],\n",
       " 'num': [1, 1, 1],\n",
       " 'color': ['blue', 'yellow', 'blue'],\n",
       " 'type': ['inner', 'inner', 'outer']}"
      ]
     },
     "execution_count": 18,
     "metadata": {},
     "output_type": "execute_result"
    }
   ],
   "source": [
    "# column 기준으로 리스트로 반환 {column : list}\n",
    "df.to_dict('list')"
   ]
  },
  {
   "cell_type": "code",
   "execution_count": null,
   "id": "be43b048",
   "metadata": {},
   "outputs": [],
   "source": []
  },
  {
   "cell_type": "code",
   "execution_count": null,
   "id": "0a3847f7",
   "metadata": {},
   "outputs": [],
   "source": []
  },
  {
   "cell_type": "code",
   "execution_count": null,
   "id": "f40267ab",
   "metadata": {},
   "outputs": [],
   "source": []
  }
 ],
 "metadata": {
  "kernelspec": {
   "display_name": "Python 3 (ipykernel)",
   "language": "python",
   "name": "python3"
  },
  "language_info": {
   "codemirror_mode": {
    "name": "ipython",
    "version": 3
   },
   "file_extension": ".py",
   "mimetype": "text/x-python",
   "name": "python",
   "nbconvert_exporter": "python",
   "pygments_lexer": "ipython3",
   "version": "3.9.12"
  }
 },
 "nbformat": 4,
 "nbformat_minor": 5
}
