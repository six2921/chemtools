{
 "cells": [
  {
   "cell_type": "code",
   "execution_count": null,
   "metadata": {},
   "outputs": [],
   "source": [
    "from IPython.core.interactiveshell import InteractiveShell\n",
    "InteractiveShell.ast_node_interactivity = \"all\""
   ]
  },
  {
   "cell_type": "markdown",
   "metadata": {},
   "source": [
    "## json 모듈 사용"
   ]
  },
  {
   "cell_type": "code",
   "execution_count": 1,
   "metadata": {},
   "outputs": [],
   "source": [
    "import json\n",
    "import requests"
   ]
  },
  {
   "cell_type": "code",
   "execution_count": 2,
   "metadata": {},
   "outputs": [],
   "source": [
    "# getting data from source\n",
    "get_data = requests.get(\"https://reqres.in/api/users?page=2\")"
   ]
  },
  {
   "cell_type": "code",
   "execution_count": 3,
   "metadata": {},
   "outputs": [],
   "source": [
    "# pretty printing data\n",
    "pretty_data = json.dumps(get_data.json(), indent=4)"
   ]
  },
  {
   "cell_type": "code",
   "execution_count": 4,
   "metadata": {
    "scrolled": true
   },
   "outputs": [
    {
     "name": "stdout",
     "output_type": "stream",
     "text": [
      "{\n",
      "    \"page\": 2,\n",
      "    \"per_page\": 6,\n",
      "    \"total\": 12,\n",
      "    \"total_pages\": 2,\n",
      "    \"data\": [\n",
      "        {\n",
      "            \"id\": 7,\n",
      "            \"email\": \"michael.lawson@reqres.in\",\n",
      "            \"first_name\": \"Michael\",\n",
      "            \"last_name\": \"Lawson\",\n",
      "            \"avatar\": \"https://reqres.in/img/faces/7-image.jpg\"\n",
      "        },\n",
      "        {\n",
      "            \"id\": 8,\n",
      "            \"email\": \"lindsay.ferguson@reqres.in\",\n",
      "            \"first_name\": \"Lindsay\",\n",
      "            \"last_name\": \"Ferguson\",\n",
      "            \"avatar\": \"https://reqres.in/img/faces/8-image.jpg\"\n",
      "        },\n",
      "        {\n",
      "            \"id\": 9,\n",
      "            \"email\": \"tobias.funke@reqres.in\",\n",
      "            \"first_name\": \"Tobias\",\n",
      "            \"last_name\": \"Funke\",\n",
      "            \"avatar\": \"https://reqres.in/img/faces/9-image.jpg\"\n",
      "        },\n",
      "        {\n",
      "            \"id\": 10,\n",
      "            \"email\": \"byron.fields@reqres.in\",\n",
      "            \"first_name\": \"Byron\",\n",
      "            \"last_name\": \"Fields\",\n",
      "            \"avatar\": \"https://reqres.in/img/faces/10-image.jpg\"\n",
      "        },\n",
      "        {\n",
      "            \"id\": 11,\n",
      "            \"email\": \"george.edwards@reqres.in\",\n",
      "            \"first_name\": \"George\",\n",
      "            \"last_name\": \"Edwards\",\n",
      "            \"avatar\": \"https://reqres.in/img/faces/11-image.jpg\"\n",
      "        },\n",
      "        {\n",
      "            \"id\": 12,\n",
      "            \"email\": \"rachel.howell@reqres.in\",\n",
      "            \"first_name\": \"Rachel\",\n",
      "            \"last_name\": \"Howell\",\n",
      "            \"avatar\": \"https://reqres.in/img/faces/12-image.jpg\"\n",
      "        }\n",
      "    ],\n",
      "    \"support\": {\n",
      "        \"url\": \"https://reqres.in/#support-heading\",\n",
      "        \"text\": \"To keep ReqRes free, contributions towards server costs are appreciated!\"\n",
      "    }\n",
      "}\n"
     ]
    }
   ],
   "source": [
    "print(pretty_data)"
   ]
  },
  {
   "cell_type": "markdown",
   "metadata": {},
   "source": [
    "## pprint 모듈 사용"
   ]
  },
  {
   "cell_type": "code",
   "execution_count": 5,
   "metadata": {},
   "outputs": [],
   "source": [
    "from pprint import pprint\n",
    "import requests"
   ]
  },
  {
   "cell_type": "code",
   "execution_count": 6,
   "metadata": {
    "scrolled": true
   },
   "outputs": [
    {
     "name": "stdout",
     "output_type": "stream",
     "text": [
      "{'data': [{'avatar': 'https://reqres.in/img/faces/7-image.jpg',\n",
      "           'email': 'michael.lawson@reqres.in',\n",
      "           'first_name': 'Michael',\n",
      "           'id': 7,\n",
      "           'last_name': 'Lawson'},\n",
      "          {'avatar': 'https://reqres.in/img/faces/8-image.jpg',\n",
      "           'email': 'lindsay.ferguson@reqres.in',\n",
      "           'first_name': 'Lindsay',\n",
      "           'id': 8,\n",
      "           'last_name': 'Ferguson'},\n",
      "          {'avatar': 'https://reqres.in/img/faces/9-image.jpg',\n",
      "           'email': 'tobias.funke@reqres.in',\n",
      "           'first_name': 'Tobias',\n",
      "           'id': 9,\n",
      "           'last_name': 'Funke'},\n",
      "          {'avatar': 'https://reqres.in/img/faces/10-image.jpg',\n",
      "           'email': 'byron.fields@reqres.in',\n",
      "           'first_name': 'Byron',\n",
      "           'id': 10,\n",
      "           'last_name': 'Fields'},\n",
      "          {'avatar': 'https://reqres.in/img/faces/11-image.jpg',\n",
      "           'email': 'george.edwards@reqres.in',\n",
      "           'first_name': 'George',\n",
      "           'id': 11,\n",
      "           'last_name': 'Edwards'},\n",
      "          {'avatar': 'https://reqres.in/img/faces/12-image.jpg',\n",
      "           'email': 'rachel.howell@reqres.in',\n",
      "           'first_name': 'Rachel',\n",
      "           'id': 12,\n",
      "           'last_name': 'Howell'}],\n",
      " 'page': 2,\n",
      " 'per_page': 6,\n",
      " 'support': {'text': 'To keep ReqRes free, contributions towards server costs '\n",
      "                     'are appreciated!',\n",
      "             'url': 'https://reqres.in/#support-heading'},\n",
      " 'total': 12,\n",
      " 'total_pages': 2}\n"
     ]
    }
   ],
   "source": [
    "get_data = requests.get(\"https://reqres.in/api/users?page=2\")\n",
    "pprint(get_data.json())"
   ]
  },
  {
   "cell_type": "code",
   "execution_count": null,
   "metadata": {},
   "outputs": [],
   "source": []
  }
 ],
 "metadata": {
  "kernelspec": {
   "display_name": "Python 3 (ipykernel)",
   "language": "python",
   "name": "python3"
  },
  "language_info": {
   "codemirror_mode": {
    "name": "ipython",
    "version": 3
   },
   "file_extension": ".py",
   "mimetype": "text/x-python",
   "name": "python",
   "nbconvert_exporter": "python",
   "pygments_lexer": "ipython3",
   "version": "3.9.12"
  }
 },
 "nbformat": 4,
 "nbformat_minor": 4
}
