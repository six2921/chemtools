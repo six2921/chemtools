{
 "cells": [
  {
   "cell_type": "code",
   "execution_count": 6,
   "id": "dfd5eba6",
   "metadata": {},
   "outputs": [],
   "source": [
    "from IPython.core.interactiveshell import InteractiveShell\n",
    "InteractiveShell.ast_node_interactivity = \"all\""
   ]
  },
  {
   "cell_type": "code",
   "execution_count": 7,
   "id": "4aa48710",
   "metadata": {},
   "outputs": [],
   "source": [
    "import pandas as pd"
   ]
  },
  {
   "cell_type": "markdown",
   "id": "fc256b8a",
   "metadata": {},
   "source": [
    "# Example of List Type"
   ]
  },
  {
   "cell_type": "code",
   "execution_count": 8,
   "id": "43e20705",
   "metadata": {
    "scrolled": true
   },
   "outputs": [
    {
     "data": {
      "text/plain": [
       "[1, 2, 3, 4, 5, 6]"
      ]
     },
     "execution_count": 8,
     "metadata": {},
     "output_type": "execute_result"
    },
    {
     "data": {
      "text/plain": [
       "[1, 2, 3, 4, 5, 6]"
      ]
     },
     "execution_count": 8,
     "metadata": {},
     "output_type": "execute_result"
    },
    {
     "data": {
      "text/plain": [
       "[1, 2, 3, 4, 5, 6]"
      ]
     },
     "execution_count": 8,
     "metadata": {},
     "output_type": "execute_result"
    },
    {
     "data": {
      "text/plain": [
       "[1, 2, 3, 4, 5, 6]"
      ]
     },
     "execution_count": 8,
     "metadata": {},
     "output_type": "execute_result"
    }
   ],
   "source": [
    "### 리스트 이어 붙이기\n",
    "mylist = [[1, 2], [3, 4], [5, 6]]\n",
    "sum(mylist, [])\n",
    "\n",
    "import itertools\n",
    "list(itertools.chain.from_iterable(mylist))\n",
    "\n",
    "[element for array in mylist for element in array]\n",
    "\n",
    "from functools import reduce\n",
    "list(reduce(lambda x, y: x+y, mylist))"
   ]
  },
  {
   "cell_type": "code",
   "execution_count": 9,
   "id": "4161085e",
   "metadata": {},
   "outputs": [
    {
     "data": {
      "text/plain": [
       "[[6], [4, 5], [1, 2, 3]]"
      ]
     },
     "execution_count": 9,
     "metadata": {},
     "output_type": "execute_result"
    }
   ],
   "source": [
    "## 리스트 요소의 길이에 따라 sort\n",
    "mylist = [[1, 2, 3], [4, 5], [6]]\n",
    "mylist.sort(key = lambda x: len(x), reverse=False)\n",
    "mylist"
   ]
  },
  {
   "cell_type": "code",
   "execution_count": 10,
   "id": "419b7c75",
   "metadata": {},
   "outputs": [
    {
     "name": "stderr",
     "output_type": "stream",
     "text": [
      "/var/folders/v3/bs3zqkg56xz3bkbg5cnxwm9m0000gn/T/ipykernel_68683/3362577919.py:4: FutureWarning: The frame.append method is deprecated and will be removed from pandas in a future version. Use pandas.concat instead.\n",
      "  df.append(pd.Series(mylist, index=df.columns), ignore_index=True)\n"
     ]
    },
    {
     "data": {
      "text/html": [
       "<div>\n",
       "<style scoped>\n",
       "    .dataframe tbody tr th:only-of-type {\n",
       "        vertical-align: middle;\n",
       "    }\n",
       "\n",
       "    .dataframe tbody tr th {\n",
       "        vertical-align: top;\n",
       "    }\n",
       "\n",
       "    .dataframe thead th {\n",
       "        text-align: right;\n",
       "    }\n",
       "</style>\n",
       "<table border=\"1\" class=\"dataframe\">\n",
       "  <thead>\n",
       "    <tr style=\"text-align: right;\">\n",
       "      <th></th>\n",
       "      <th>a</th>\n",
       "      <th>b</th>\n",
       "      <th>c</th>\n",
       "    </tr>\n",
       "  </thead>\n",
       "  <tbody>\n",
       "    <tr>\n",
       "      <th>0</th>\n",
       "      <td>[1, 2, 3]</td>\n",
       "      <td>[4, 5]</td>\n",
       "      <td>[6]</td>\n",
       "    </tr>\n",
       "  </tbody>\n",
       "</table>\n",
       "</div>"
      ],
      "text/plain": [
       "           a       b    c\n",
       "0  [1, 2, 3]  [4, 5]  [6]"
      ]
     },
     "execution_count": 10,
     "metadata": {},
     "output_type": "execute_result"
    }
   ],
   "source": [
    "# 리스트를 데이터프레임에 행으로 추가하기\n",
    "mylist = [[1, 2, 3], [4, 5], [6]]\n",
    "df = pd.DataFrame(columns=['a', 'b', 'c'])\n",
    "df.append(pd.Series(mylist, index=df.columns), ignore_index=True) "
   ]
  },
  {
   "cell_type": "code",
   "execution_count": 11,
   "id": "57c829db",
   "metadata": {},
   "outputs": [
    {
     "data": {
      "text/plain": [
       "[1, 2, 3, 4, 5, 6]"
      ]
     },
     "execution_count": 11,
     "metadata": {},
     "output_type": "execute_result"
    }
   ],
   "source": [
    "# 2차원 리스트 평평하게 하기\n",
    "mylist = [[1, 2, 3], [4, 5], [6]]\n",
    "list(itertools.chain(*mylist))"
   ]
  },
  {
   "cell_type": "code",
   "execution_count": 12,
   "id": "ef4429dc",
   "metadata": {},
   "outputs": [
    {
     "data": {
      "text/plain": [
       "[1, 2, 3, 4]"
      ]
     },
     "execution_count": 12,
     "metadata": {},
     "output_type": "execute_result"
    }
   ],
   "source": [
    "# 2차원 리스트 평평하게 하기 2\n",
    "list_of_lists = [[1, 2], [3, 4]]\n",
    "sum(list_of_lists, [])"
   ]
  },
  {
   "cell_type": "markdown",
   "id": "82c6cae6",
   "metadata": {},
   "source": [
    "## 합집합, 교집합, 차집합"
   ]
  },
  {
   "cell_type": "code",
   "execution_count": 13,
   "id": "3452bd32",
   "metadata": {},
   "outputs": [
    {
     "data": {
      "text/plain": [
       "['D', 'B', 'C', 'E', 'F', 'A']"
      ]
     },
     "execution_count": 13,
     "metadata": {},
     "output_type": "execute_result"
    },
    {
     "data": {
      "text/plain": [
       "['C', 'D']"
      ]
     },
     "execution_count": 13,
     "metadata": {},
     "output_type": "execute_result"
    },
    {
     "data": {
      "text/plain": [
       "['A', 'B']"
      ]
     },
     "execution_count": 13,
     "metadata": {},
     "output_type": "execute_result"
    },
    {
     "data": {
      "text/plain": [
       "['B', 'E', 'F', 'A']"
      ]
     },
     "execution_count": 13,
     "metadata": {},
     "output_type": "execute_result"
    },
    {
     "data": {
      "text/plain": [
       "['C', 'D']"
      ]
     },
     "execution_count": 13,
     "metadata": {},
     "output_type": "execute_result"
    }
   ],
   "source": [
    "# 리스트 합집합\n",
    "# https://zetawiki.com/wiki/Python_%EB%A6%AC%EC%8A%A4%ED%8A%B8_%ED%95%A9%EC%A7%91%ED%95%A9,_%EA%B5%90%EC%A7%91%ED%95%A9,_%EC%B0%A8%EC%A7%91%ED%95%A9,_%EB%8C%80%EC%B9%AD%EC%B0%A8\n",
    "\n",
    "lst1 = ['A', 'B', 'C', 'D']\n",
    "lst2 = ['C', 'D', 'E', 'F']\n",
    "list(set(lst1) | set(lst2))    # 합집합\n",
    "list(set(lst1) & set(lst2))    # 교집합\n",
    "list(set(lst1) - set(lst2))    # 차집합\n",
    "list(set(lst1) ^ set(lst2))    # 대칭차집합\n",
    "\n",
    "[x for x in lst1 if x in lst2]    # 교집합"
   ]
  },
  {
   "cell_type": "code",
   "execution_count": 14,
   "id": "07982be3",
   "metadata": {},
   "outputs": [
    {
     "data": {
      "text/plain": [
       "['A', 'B']"
      ]
     },
     "execution_count": 14,
     "metadata": {},
     "output_type": "execute_result"
    }
   ],
   "source": [
    "# 순서 유지 차집합\n",
    "[x for x in lst1 if x not in lst2]"
   ]
  },
  {
   "cell_type": "code",
   "execution_count": null,
   "id": "37ec70b3",
   "metadata": {},
   "outputs": [],
   "source": []
  },
  {
   "cell_type": "markdown",
   "id": "80706bdf",
   "metadata": {},
   "source": [
    "## 리스트를 효율적으로 다루는 방법\n",
    "map 함수와 list comprehension  \n",
    "파이썬은 가능한 내장 함수를 사용하는 것이 빠르다.  \n",
    "좋은 예가 리스트에 map를 사용하는 것이고  \n",
    "더 좋은 예를 list comprehension을 사용하는 것이다. (파이썬의 꽃이랜다)  \n",
    "https://betterprogramming.pub/6-tips-to-make-python-code-run-incredibly-faster-932db815c3a8"
   ]
  },
  {
   "cell_type": "code",
   "execution_count": 17,
   "id": "fe3aa5ea",
   "metadata": {},
   "outputs": [
    {
     "name": "stdout",
     "output_type": "stream",
     "text": [
      "CPU times: user 2 µs, sys: 1 µs, total: 3 µs\n",
      "Wall time: 3.81 µs\n"
     ]
    },
    {
     "data": {
      "text/plain": [
       "[1, 2, 3]"
      ]
     },
     "execution_count": 17,
     "metadata": {},
     "output_type": "execute_result"
    }
   ],
   "source": [
    "# 내장 함수를 써라!. 더 빠르다. \n",
    "# 예를 들어 map 함수. (그러나 int를 사용할 수 없다)\n",
    "%time\n",
    "mylist = ['1', '2', '3']\n",
    "\n",
    "newlist = []\n",
    "for i in mylist:\n",
    "    int_type = int(i)\n",
    "    newlist.append(int_type)\n",
    "\n",
    "newlist"
   ]
  },
  {
   "cell_type": "code",
   "execution_count": 18,
   "id": "47f63b55",
   "metadata": {},
   "outputs": [
    {
     "name": "stdout",
     "output_type": "stream",
     "text": [
      "CPU times: user 2 µs, sys: 0 ns, total: 2 µs\n",
      "Wall time: 3.1 µs\n"
     ]
    },
    {
     "data": {
      "text/plain": [
       "[1, 2, 3]"
      ]
     },
     "execution_count": 18,
     "metadata": {},
     "output_type": "execute_result"
    }
   ],
   "source": [
    "# map 함수는 빠르다. 사용하는 방법은 map(함수, 리스트)\n",
    "%time\n",
    "mylist = ['1', '2', '3']\n",
    "list(map(int, mylist))"
   ]
  },
  {
   "cell_type": "code",
   "execution_count": 19,
   "id": "e30380c7",
   "metadata": {},
   "outputs": [
    {
     "name": "stdout",
     "output_type": "stream",
     "text": [
      "CPU times: user 1e+03 ns, sys: 1 µs, total: 2 µs\n",
      "Wall time: 2.86 µs\n"
     ]
    },
    {
     "data": {
      "text/plain": [
       "[1, 4, 9]"
      ]
     },
     "execution_count": 19,
     "metadata": {},
     "output_type": "execute_result"
    }
   ],
   "source": [
    "# 예를 들어 단순 제곱을 하고 싶은 경우 \n",
    "# 함수를 만들어줘야 한다!\n",
    "%time\n",
    "def square(num):\n",
    "    return num*num\n",
    "\n",
    "mylist = [1,2,3]\n",
    "list(map(square, mylist))"
   ]
  },
  {
   "cell_type": "code",
   "execution_count": 20,
   "id": "bb8409b1",
   "metadata": {},
   "outputs": [
    {
     "name": "stdout",
     "output_type": "stream",
     "text": [
      "CPU times: user 2 µs, sys: 0 ns, total: 2 µs\n",
      "Wall time: 4.05 µs\n"
     ]
    },
    {
     "data": {
      "text/plain": [
       "[1, 4, 9]"
      ]
     },
     "execution_count": 20,
     "metadata": {},
     "output_type": "execute_result"
    }
   ],
   "source": [
    "# lambda 함수로 즉석에서 명령어를 만들어 줄 수 있다. \n",
    "%time\n",
    "mylist = [1,2,3]\n",
    "list(map(lambda x: x*x, mylist))"
   ]
  },
  {
   "cell_type": "code",
   "execution_count": 16,
   "id": "b7ea5b44",
   "metadata": {},
   "outputs": [
    {
     "name": "stdout",
     "output_type": "stream",
     "text": [
      "CPU times: user 2 µs, sys: 1 µs, total: 3 µs\n",
      "Wall time: 3.81 µs\n"
     ]
    },
    {
     "data": {
      "text/plain": [
       "[1, 4, 9]"
      ]
     },
     "execution_count": 16,
     "metadata": {},
     "output_type": "execute_result"
    }
   ],
   "source": [
    "# list comprehension을 이용하는 것이 가장 파이썬 다운 방법!\n",
    "%time\n",
    "mylist = [1,2,3]\n",
    "[x*x for x in mylist]"
   ]
  },
  {
   "cell_type": "code",
   "execution_count": null,
   "id": "a8fdd3d3",
   "metadata": {},
   "outputs": [],
   "source": []
  },
  {
   "cell_type": "markdown",
   "id": "2165ecf5",
   "metadata": {},
   "source": [
    "## 기타"
   ]
  },
  {
   "cell_type": "code",
   "execution_count": 1,
   "id": "0c703893",
   "metadata": {},
   "outputs": [
    {
     "name": "stdout",
     "output_type": "stream",
     "text": [
      "Pass\n"
     ]
    }
   ],
   "source": [
    "chem = 70\n",
    "physics = 60\n",
    "math = 70\n",
    "\n",
    "list_condition = [chem > 50, \n",
    "                  physics > 50, \n",
    "                  math > 50]\n",
    "\n",
    "print(\"Pass\" if all(list_condition) else \"Fail\") # all 혹은 any"
   ]
  }
 ],
 "metadata": {
  "kernelspec": {
   "display_name": "Python 3 (ipykernel)",
   "language": "python",
   "name": "python3"
  },
  "language_info": {
   "codemirror_mode": {
    "name": "ipython",
    "version": 3
   },
   "file_extension": ".py",
   "mimetype": "text/x-python",
   "name": "python",
   "nbconvert_exporter": "python",
   "pygments_lexer": "ipython3",
   "version": "3.9.12"
  }
 },
 "nbformat": 4,
 "nbformat_minor": 5
}
