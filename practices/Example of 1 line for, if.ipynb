{
 "cells": [
  {
   "cell_type": "code",
   "execution_count": null,
   "id": "504b0e78",
   "metadata": {},
   "outputs": [],
   "source": [
    "from IPython.core.interactiveshell import InteractiveShell\n",
    "InteractiveShell.ast_node_interactivity = \"all\""
   ]
  },
  {
   "cell_type": "markdown",
   "id": "37b2ed75",
   "metadata": {},
   "source": [
    "## MAP, FILTER, REDUCE"
   ]
  },
  {
   "cell_type": "markdown",
   "id": "22eadeb6",
   "metadata": {},
   "source": [
    "https://www.analyticsvidhya.com/blog/2021/07/python-most-powerful-functions-map-filter-and-reduce-in-5-minutes/  "
   ]
  },
  {
   "cell_type": "code",
   "execution_count": 8,
   "id": "27fb037e",
   "metadata": {},
   "outputs": [
    {
     "name": "stdout",
     "output_type": "stream",
     "text": [
      "<map object at 0x7f7be085a760>\n",
      "{16, 1, 4, 9}\n"
     ]
    }
   ],
   "source": [
    "# map 함수는 리스트나 튜플을 함수에 맵핑하여 차례로 실행시킨다\n",
    "def function(a):\n",
    "    return a*a\n",
    "x = map(function, (1,2,3,4))  #x is the map object\n",
    "print(x)\n",
    "print(set(x))"
   ]
  },
  {
   "cell_type": "code",
   "execution_count": 9,
   "id": "c4e343a3",
   "metadata": {},
   "outputs": [
    {
     "name": "stdout",
     "output_type": "stream",
     "text": [
      "(8, 10, 25, 100, 57, 65, 80, 26, 76, 64)\n"
     ]
    }
   ],
   "source": [
    "tup= (5, 7, 22, 97, 54, 62, 77, 23, 73, 61)\n",
    "newtuple = tuple(map(lambda x: x+3 , tup)) \n",
    "print(newtuple)"
   ]
  },
  {
   "cell_type": "code",
   "execution_count": 10,
   "id": "e67486c7",
   "metadata": {},
   "outputs": [
    {
     "name": "stdout",
     "output_type": "stream",
     "text": [
      "<filter object at 0x7f7bd010bfd0>\n",
      "[3, 4]\n"
     ]
    }
   ],
   "source": [
    "# 필터 함수는 리스트나 튜플을 함수에 맵핑하여 조건에 맞는 것만 가져온다. \n",
    "def func(x):\n",
    "    if x>=3:\n",
    "        return x\n",
    "y = filter(func, (1,2,3,4))  \n",
    "print(y)\n",
    "print(list(y))"
   ]
  },
  {
   "cell_type": "code",
   "execution_count": 11,
   "id": "71e546e1",
   "metadata": {},
   "outputs": [
    {
     "name": "stdout",
     "output_type": "stream",
     "text": [
      "[3, 4]\n"
     ]
    }
   ],
   "source": [
    "y = filter(lambda x: (x>=3), (1,2,3,4))\n",
    "print(list(y))"
   ]
  },
  {
   "cell_type": "code",
   "execution_count": 12,
   "id": "3de6e9c5",
   "metadata": {},
   "outputs": [
    {
     "data": {
      "text/plain": [
       "187"
      ]
     },
     "execution_count": 12,
     "metadata": {},
     "output_type": "execute_result"
    }
   ],
   "source": [
    "# reduce 함수는 [1,2] [[1,2], 3] 이런식으로 순서대로 맵핑시킨다. \n",
    "from functools import reduce\n",
    "reduce(lambda a,b: a+b,[23,21,45,98])"
   ]
  },
  {
   "cell_type": "code",
   "execution_count": null,
   "id": "69fd5408",
   "metadata": {},
   "outputs": [],
   "source": []
  },
  {
   "cell_type": "code",
   "execution_count": null,
   "id": "1f5b8f67",
   "metadata": {},
   "outputs": [],
   "source": []
  },
  {
   "cell_type": "markdown",
   "id": "f1dbd7f2",
   "metadata": {},
   "source": [
    "## 한 줄 쓰기"
   ]
  },
  {
   "cell_type": "markdown",
   "id": "6e2e1728",
   "metadata": {},
   "source": [
    "https://leedakyeong.tistory.com/entry/python-for%EB%AC%B8-if%EB%AC%B8-%ED%95%9C-%EC%A4%84%EB%A1%9C-%EC%BD%94%EB%94%A9%ED%95%98%EA%B8%B0"
   ]
  },
  {
   "cell_type": "code",
   "execution_count": 2,
   "id": "f0c35135",
   "metadata": {},
   "outputs": [
    {
     "data": {
      "text/plain": [
       "[0, 1, 2, 3, 4, 5, 6, 7, 8, 9]"
      ]
     },
     "execution_count": 2,
     "metadata": {},
     "output_type": "execute_result"
    }
   ],
   "source": [
    "v = list(range(10))\n",
    "v"
   ]
  },
  {
   "cell_type": "code",
   "execution_count": 5,
   "id": "a8d72979",
   "metadata": {},
   "outputs": [
    {
     "name": "stdout",
     "output_type": "stream",
     "text": [
      "0\n",
      "1\n",
      "2\n",
      "3\n",
      "4\n",
      "5\n",
      "6\n",
      "7\n",
      "8\n",
      "9\n"
     ]
    }
   ],
   "source": [
    "# for문 한 줄로 1\n",
    "for i in v: print(i)"
   ]
  },
  {
   "cell_type": "code",
   "execution_count": 7,
   "id": "2d8a453f",
   "metadata": {},
   "outputs": [
    {
     "data": {
      "text/plain": [
       "[0, 1, 2, 3, 4, 5, 6, 7, 8, 9]"
      ]
     },
     "execution_count": 7,
     "metadata": {},
     "output_type": "execute_result"
    }
   ],
   "source": [
    "# for문 한 줄로 2\n",
    "[i for i in v]"
   ]
  },
  {
   "cell_type": "code",
   "execution_count": 27,
   "id": "6270d2fe",
   "metadata": {},
   "outputs": [
    {
     "data": {
      "text/plain": [
       "[[0, 1, 2, 3, 4, 5, 6, 7, 8, 9], [10, 11, 12, 13, 14]]"
      ]
     },
     "execution_count": 27,
     "metadata": {},
     "output_type": "execute_result"
    }
   ],
   "source": [
    "v = [list(range(10)), list(range(10, 15))]\n",
    "v"
   ]
  },
  {
   "cell_type": "code",
   "execution_count": 28,
   "id": "8bf51db4",
   "metadata": {},
   "outputs": [
    {
     "name": "stdout",
     "output_type": "stream",
     "text": [
      "0\n",
      "1\n",
      "2\n",
      "3\n",
      "4\n",
      "5\n",
      "6\n",
      "7\n",
      "8\n",
      "9\n",
      "10\n",
      "11\n",
      "12\n",
      "13\n",
      "14\n"
     ]
    },
    {
     "data": {
      "text/plain": [
       "[0, 1, 2, 3, 4, 5, 6, 7, 8, 9, 10, 11, 12, 13, 14]"
      ]
     },
     "execution_count": 28,
     "metadata": {},
     "output_type": "execute_result"
    }
   ],
   "source": [
    "# for문 \n",
    "for i in v:\n",
    "    for j in i:\n",
    "        print(j)\n",
    "\n",
    "# 한 줄로\n",
    "[j for i in v for j in i]"
   ]
  },
  {
   "cell_type": "code",
   "execution_count": 29,
   "id": "de3b7566",
   "metadata": {},
   "outputs": [
    {
     "name": "stdout",
     "output_type": "stream",
     "text": [
      "0\n"
     ]
    }
   ],
   "source": [
    "# if문 한 줄로 \n",
    "v = 3\n",
    "if v<5 : print(0)\n"
   ]
  },
  {
   "cell_type": "code",
   "execution_count": 30,
   "id": "3b81a8d4",
   "metadata": {},
   "outputs": [
    {
     "data": {
      "text/plain": [
       "0"
      ]
     },
     "execution_count": 30,
     "metadata": {},
     "output_type": "execute_result"
    }
   ],
   "source": [
    "# if문 else 한 줄로\n",
    "res = 0 if v<5 else 1\n",
    "res"
   ]
  },
  {
   "cell_type": "code",
   "execution_count": 31,
   "id": "846ee7f0",
   "metadata": {},
   "outputs": [
    {
     "data": {
      "text/plain": [
       "'low'"
      ]
     },
     "execution_count": 31,
     "metadata": {},
     "output_type": "execute_result"
    }
   ],
   "source": [
    "# if else 구문 한 줄로\n",
    "v = 3\n",
    "res = 'high' if v>10 else 'mid' if v>5 else 'low'\n",
    "res\n",
    "\n",
    "# ('high' if v>10) (else 'mid' if v>5) (else 'low') 이렇게 묶인다. "
   ]
  },
  {
   "cell_type": "code",
   "execution_count": 35,
   "id": "ea2ea60f",
   "metadata": {},
   "outputs": [
    {
     "data": {
      "text/plain": [
       "[0, 1, 2, 3, 4, 5, 6, 7, 8, 9]"
      ]
     },
     "execution_count": 35,
     "metadata": {},
     "output_type": "execute_result"
    },
    {
     "name": "stdout",
     "output_type": "stream",
     "text": [
      "8\n"
     ]
    },
    {
     "data": {
      "text/plain": [
       "[8]"
      ]
     },
     "execution_count": 35,
     "metadata": {},
     "output_type": "execute_result"
    }
   ],
   "source": [
    "# for if문 \n",
    "v = list(range(10))\n",
    "v\n",
    "\n",
    "for i in v:\n",
    "    if i == 8:\n",
    "        print(i)\n",
    "        \n",
    "# 한 줄로\n",
    "[i for i in v if i==8]"
   ]
  },
  {
   "cell_type": "code",
   "execution_count": 36,
   "id": "99f49b92",
   "metadata": {},
   "outputs": [
    {
     "name": "stdout",
     "output_type": "stream",
     "text": [
      "No\n",
      "No\n",
      "No\n",
      "No\n",
      "No\n",
      "No\n",
      "No\n",
      "No\n",
      "8\n",
      "No\n"
     ]
    }
   ],
   "source": [
    "# for, if, else\n",
    "for i in v:\n",
    "    if i == 8:\n",
    "        print(i)\n",
    "    else :\n",
    "        print(\"No\")\n",
    "\n",
    "# 한 줄로\n",
    "[i if i == 8 else \"No\" for i in v]"
   ]
  },
  {
   "cell_type": "code",
   "execution_count": null,
   "id": "c97e23a8",
   "metadata": {},
   "outputs": [],
   "source": []
  }
 ],
 "metadata": {
  "kernelspec": {
   "display_name": "Python 3 (ipykernel)",
   "language": "python",
   "name": "python3"
  },
  "language_info": {
   "codemirror_mode": {
    "name": "ipython",
    "version": 3
   },
   "file_extension": ".py",
   "mimetype": "text/x-python",
   "name": "python",
   "nbconvert_exporter": "python",
   "pygments_lexer": "ipython3",
   "version": "3.9.12"
  }
 },
 "nbformat": 4,
 "nbformat_minor": 5
}
