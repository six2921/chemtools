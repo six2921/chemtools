{
 "cells": [
  {
   "cell_type": "code",
   "execution_count": 7,
   "metadata": {},
   "outputs": [],
   "source": [
    "def points_on_3d(df_coord_1, df_coord_2):\n",
    "    import plotly.graph_objects as go\n",
    "    # x,y,z 좌표를 가지고 있는 두 데이터프레임을 입력받아 3D 그래프를 생성하는 함수\n",
    "    def points_on_3d(df_coord_1, df_coord_2):\n",
    "        # 3D 그래프 생성\n",
    "        fig = go.Figure()\n",
    "\n",
    "        # df 데이터프레임의 좌표를 빨간색으로 표시\n",
    "        fig.add_trace(go.Scatter3d(\n",
    "            x=df_coord_1['x'],\n",
    "            y=df_coord_1['y'],\n",
    "            z=df_coord_1['z'],\n",
    "            mode='markers',\n",
    "            marker=dict(\n",
    "                size=1,\n",
    "                color='red',\n",
    "                opacity=0.8\n",
    "            )\n",
    "        ))\n",
    "\n",
    "        # df_coordinates_filtered 데이터프레임의 좌표를 파란색으로 표시\n",
    "        fig.add_trace(go.Scatter3d(\n",
    "            x=df_coord_2['x'],\n",
    "            y=df_coord_2['y'],\n",
    "            z=df_coord_2['z'],\n",
    "            mode='markers',\n",
    "            marker=dict(\n",
    "                size=1,\n",
    "                color='blue',\n",
    "                opacity=0.5\n",
    "            )\n",
    "        ))\n",
    "\n",
    "        # 그래프 표시\n",
    "        fig.show()"
   ]
  },
  {
   "cell_type": "code",
   "execution_count": 8,
   "metadata": {},
   "outputs": [
    {
     "name": "stdout",
     "output_type": "stream",
     "text": [
      "      atom           x           y           z\n",
      "0        N  140.205002  146.867996  138.487000\n",
      "1       CA  139.209000  146.955994  139.539001\n",
      "2        C  139.244995  148.279007  140.276993\n",
      "3        O  140.242004  148.613998  140.910004\n",
      "4       H1  140.304993  145.914993  138.167999\n",
      "...    ...         ...         ...         ...\n",
      "13036   HA  139.820007  131.044006  135.804993\n",
      "13037  HXT  139.690002  133.013000  137.270004\n",
      "13038  HB1  141.621994  131.011993  137.393005\n",
      "13039  HB2  142.285004  130.449005  135.893005\n",
      "13040  HB3  142.641006  132.085007  136.382004\n",
      "\n",
      "[13041 rows x 4 columns]\n"
     ]
    }
   ],
   "source": [
    "import pandas as pd\n",
    "from Bio.PDB import PDBParser\n",
    "import pandas as pd\n",
    "\n",
    "# PDB 파일 읽기\n",
    "parser = PDBParser()\n",
    "structure = parser.get_structure(\"1crn\", \"1crn.pdb\")\n",
    "\n",
    "# 원자 좌표를 저장할 데이터테이블 초기화\n",
    "data = {'atom': [], 'x': [], 'y': [], 'z': []}\n",
    "\n",
    "# 모든 원자를 순회하며 좌표를 데이터테이블에 추가\n",
    "for model in structure:\n",
    "    for chain in model:\n",
    "        for residue in chain:\n",
    "            for atom in residue:\n",
    "                data['atom'].append(atom.get_name())\n",
    "                data['x'].append(atom.get_coord()[0])\n",
    "                data['y'].append(atom.get_coord()[1])\n",
    "                data['z'].append(atom.get_coord()[2])\n",
    "\n",
    "# 데이터테이블 생성\n",
    "df_protein = pd.DataFrame(data)\n",
    "\n",
    "print(df_protein)"
   ]
  },
  {
   "cell_type": "code",
   "execution_count": 9,
   "metadata": {},
   "outputs": [
    {
     "name": "stdout",
     "output_type": "stream",
     "text": [
      "13041\n",
      "4624\n"
     ]
    }
   ],
   "source": [
    "import numpy as np\n",
    "\n",
    "# 데이터프레임의 x, y, z 좌표의 최소값과 최대값을 계산\n",
    "min_x = df_protein['x'].min()\n",
    "max_x = df_protein['x'].max()\n",
    "\n",
    "min_y = df_protein['y'].min()\n",
    "max_y = df_protein['y'].max()\n",
    "\n",
    "min_z = df_protein['z'].min()\n",
    "max_z = df_protein['z'].max()\n",
    "\n",
    "# x, y, z 축의 범위 계산\n",
    "x_range = np.arange(min_x - 5, max_x + 5, 5)\n",
    "y_range = np.arange(min_y - 5, max_y + 5, 5)\n",
    "z_range = np.arange(min_z - 5, max_z + 5, 5)\n",
    "\n",
    "# 모든 좌표 생성\n",
    "coordinates = np.array(np.meshgrid(x_range, y_range, z_range)).T.reshape(-1,3)\n",
    "\n",
    "# 데이터프레임으로 변환\n",
    "df_coordinates = pd.DataFrame(coordinates, columns=['x', 'y', 'z'])\n",
    "\n",
    "print(len(df_protein))\n",
    "print(len(df_coordinates))\n",
    "\n"
   ]
  },
  {
   "cell_type": "code",
   "execution_count": null,
   "metadata": {},
   "outputs": [],
   "source": [
    "points_on_3d(df_protein, df_coordinates)"
   ]
  },
  {
   "cell_type": "code",
   "execution_count": 10,
   "metadata": {},
   "outputs": [
    {
     "name": "stdout",
     "output_type": "stream",
     "text": [
      "486\n"
     ]
    }
   ],
   "source": [
    "from scipy.spatial import distance\n",
    "\n",
    "# df_proteins에 있는 각 좌표와 df_coordinates에 있는 각 좌표 사이의 거리를 계산\n",
    "distances = distance.cdist(df_coordinates[['x', 'y', 'z']].values, df_protein[['x', 'y', 'z']].values, 'euclidean')\n",
    "\n",
    "# 거리가 5 이하 3 초과인 좌표를 선택\n",
    "df_coordinates_filtered = df_coordinates[np.logical_and(np.min(distances, axis=1) <= 5, np.min(distances, axis=1) > 3)]\n",
    "\n",
    "print(len(df_coordinates_filtered))\n"
   ]
  },
  {
   "cell_type": "code",
   "execution_count": null,
   "metadata": {},
   "outputs": [],
   "source": [
    "points_on_3d(df_protein, df_coordinates_filtered)"
   ]
  },
  {
   "cell_type": "code",
   "execution_count": 11,
   "metadata": {},
   "outputs": [
    {
     "name": "stderr",
     "output_type": "stream",
     "text": [
      "/home/siu/anaconda/envs/chem/lib/python3.12/site-packages/sklearn/cluster/_kmeans.py:1416: FutureWarning: The default value of `n_init` will change from 10 to 'auto' in 1.4. Set the value of `n_init` explicitly to suppress the warning\n",
      "  super()._check_params_vs_input(X, default_n_init=10)\n"
     ]
    },
    {
     "name": "stdout",
     "output_type": "stream",
     "text": [
      "243\n"
     ]
    }
   ],
   "source": [
    "# KMeans 클러스터링으로 좌표를 1/2로 줄임\n",
    "\n",
    "from sklearn.cluster import KMeans\n",
    "\n",
    "cluster_num = int(len(df_coordinates_filtered)/2)\n",
    "\n",
    "# KMeans 객체 생성\n",
    "kmeans = KMeans(n_clusters=cluster_num, random_state=0)\n",
    "\n",
    "# 클러스터링 수행\n",
    "kmeans.fit(df_coordinates_filtered)\n",
    "\n",
    "# 클러스터 중심점을 데이터프레임으로 변환\n",
    "df_centroids = pd.DataFrame(kmeans.cluster_centers_, columns=['x', 'y', 'z'])\n",
    "\n",
    "print(len(df_centroids))\n"
   ]
  },
  {
   "cell_type": "code",
   "execution_count": null,
   "metadata": {},
   "outputs": [],
   "source": [
    "points_on_3d(df_protein, df_centroids)"
   ]
  },
  {
   "cell_type": "code",
   "execution_count": 85,
   "metadata": {},
   "outputs": [],
   "source": [
    "# 생성된 좌표에 Br를 만들어서 PDB 파일로 저장\n",
    "\n",
    "from Bio.PDB import PDBIO, Atom, Residue, Chain, Model, Structure\n",
    "\n",
    "# 새로운 PDB 구조 생성\n",
    "structure = Structure.Structure('new_structure')\n",
    "\n",
    "# 모델 생성\n",
    "model = Model.Model(0)\n",
    "structure.add(model)\n",
    "\n",
    "# 체인 생성\n",
    "chain = Chain.Chain('A')\n",
    "model.add(chain)\n",
    "\n",
    "# df_centroids에 있는 각 좌표에 대해 브롬 원자를 생성\n",
    "for i, row in df_centroids.iterrows():\n",
    "    # 브롬 원자 생성\n",
    "    atom = Atom.Atom('BR', row[['x', 'y', 'z']].values, 0.0, 1.0, ' ', 'BR', 1, 'BR')\n",
    "    \n",
    "    # 잔기 생성\n",
    "    residue = Residue.Residue((' ', i, ' '), 'BR', ' ')\n",
    "    residue.add(atom)\n",
    "    \n",
    "    # 체인에 잔기 추가\n",
    "    chain.add(residue)\n",
    "\n",
    "# PDB 파일로 저장\n",
    "io = PDBIO()\n",
    "io.set_structure(structure)\n",
    "io.save('generated_coordinates_Br.pdb')"
   ]
  },
  {
   "cell_type": "code",
   "execution_count": null,
   "metadata": {},
   "outputs": [],
   "source": []
  }
 ],
 "metadata": {
  "kernelspec": {
   "display_name": "chem",
   "language": "python",
   "name": "python3"
  },
  "language_info": {
   "codemirror_mode": {
    "name": "ipython",
    "version": 3
   },
   "file_extension": ".py",
   "mimetype": "text/x-python",
   "name": "python",
   "nbconvert_exporter": "python",
   "pygments_lexer": "ipython3",
   "version": "3.12.0"
  }
 },
 "nbformat": 4,
 "nbformat_minor": 2
}
