{
 "cells": [
  {
   "cell_type": "code",
   "execution_count": 41,
   "id": "1da36fbb-eafb-47ee-b7f8-8029e598a2ed",
   "metadata": {},
   "outputs": [],
   "source": [
    "# Change your dir\n",
    "import os \n",
    "os.chdir(\"./\")"
   ]
  },
  {
   "cell_type": "code",
   "execution_count": 42,
   "id": "11a22405-9879-4524-91e6-1854b8b4d1a7",
   "metadata": {},
   "outputs": [],
   "source": [
    "# 필요한 라이브러리 불러오기\n",
    "import pandas as pd\n",
    "import numpy as np\n",
    "\n",
    "# 예제 데이터프레임 생성\n",
    "np.random.seed(42)  # 데이터 재현성을 위해 시드 설정\n",
    "data = {\n",
    "    'MW': np.random.uniform(154.23, 482.1, 100),  # Column1: MW\n",
    "    'LogP': np.random.uniform(1.23, 6.70, 100),  # Column2\n",
    "    'Class': np.random.choice(['A', 'B', 'C', 'D', 'E'], 100)  # Class: A와 B 중 하나 선택\n",
    "}\n",
    "df = pd.DataFrame(data)"
   ]
  },
  {
   "cell_type": "code",
   "execution_count": 43,
   "id": "560174e1-8f18-460d-b1a2-86229b75812b",
   "metadata": {},
   "outputs": [],
   "source": [
    "# Read your data\n",
    "# df = pd.read_csv(\"your_data.csv\")"
   ]
  },
  {
   "cell_type": "code",
   "execution_count": 45,
   "id": "1608986a-d997-4723-aded-3011c6dd2c33",
   "metadata": {},
   "outputs": [
    {
     "data": {
      "application/vnd.jupyter.widget-view+json": {
       "model_id": "1854296e6ae84aa183e0bf2ceb1e2ac1",
       "version_major": 2,
       "version_minor": 0
      },
      "text/plain": [
       "HBox(children=(VBox(children=(VBox(children=(Dropdown(description='Value:', layout=Layout(width='70%'), option…"
      ]
     },
     "metadata": {},
     "output_type": "display_data"
    }
   ],
   "source": [
    "# 외부 파일에서 함수 불러오기\n",
    "%run draw_counter_plot.py\n",
    "\n",
    "# 노트북에서 사용하는 데이터프레임을 함수에 전달\n",
    "create_widgets_and_display(df)"
   ]
  },
  {
   "cell_type": "code",
   "execution_count": null,
   "id": "c2dae6c8-08de-4f9f-b886-948e1c67ef12",
   "metadata": {},
   "outputs": [],
   "source": []
  }
 ],
 "metadata": {
  "kernelspec": {
   "display_name": "Python 3 (ipykernel)",
   "language": "python",
   "name": "python3"
  },
  "language_info": {
   "codemirror_mode": {
    "name": "ipython",
    "version": 3
   },
   "file_extension": ".py",
   "mimetype": "text/x-python",
   "name": "python",
   "nbconvert_exporter": "python",
   "pygments_lexer": "ipython3",
   "version": "3.12.2"
  }
 },
 "nbformat": 4,
 "nbformat_minor": 5
}
