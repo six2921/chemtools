{
 "cells": [
  {
   "cell_type": "code",
   "execution_count": 1,
   "metadata": {},
   "outputs": [],
   "source": [
    "from rdkit import Chem\n",
    "from rdkit.Chem import AllChem"
   ]
  },
  {
   "cell_type": "code",
   "execution_count": 2,
   "metadata": {},
   "outputs": [],
   "source": [
    "# SMARTS 패턴 정의\n",
    "smarts_pattern = Chem.MolFromSmarts('[C;H1,H2,H3][C;H1,H2,H3][C;H1,H2,H3][C;H1,H2,H3][C;H1,H2,H3]')"
   ]
  },
  {
   "cell_type": "code",
   "execution_count": 3,
   "metadata": {},
   "outputs": [],
   "source": [
    "# SDF 파일 읽기\n",
    "suppl = Chem.SDMolSupplier('file.sdf')"
   ]
  },
  {
   "cell_type": "code",
   "execution_count": 4,
   "metadata": {},
   "outputs": [
    {
     "name": "stdout",
     "output_type": "stream",
     "text": [
      "CC(C)[C@@H]1C[C@@H](CNC(=O)c2cnns2)c2ccccc21\n",
      "CC1=C[C@@H](C)[C@H](/C=N/n2cnnc2)[C@H](C)C1\n",
      "CC(C)[C@H]1CCc2ccccc2[C@@H]1NC(=O)c1cnn(C)c1\n"
     ]
    }
   ],
   "source": [
    "# substructure 검색\n",
    "for mol in suppl:\n",
    "    if mol is not None:\n",
    "        if mol.HasSubstructMatch(smarts_pattern):\n",
    "            print(Chem.MolToSmiles(mol))"
   ]
  },
  {
   "cell_type": "code",
   "execution_count": null,
   "metadata": {},
   "outputs": [],
   "source": []
  }
 ],
 "metadata": {
  "kernelspec": {
   "display_name": "Python 3 (ipykernel)",
   "language": "python",
   "name": "python3"
  },
  "language_info": {
   "codemirror_mode": {
    "name": "ipython",
    "version": 3
   },
   "file_extension": ".py",
   "mimetype": "text/x-python",
   "name": "python",
   "nbconvert_exporter": "python",
   "pygments_lexer": "ipython3",
   "version": "3.10.12"
  },
  "orig_nbformat": 4
 },
 "nbformat": 4,
 "nbformat_minor": 2
}
