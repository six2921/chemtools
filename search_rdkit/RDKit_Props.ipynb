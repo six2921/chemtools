{
 "cells": [
  {
   "cell_type": "code",
   "execution_count": 9,
   "id": "78043942",
   "metadata": {},
   "outputs": [],
   "source": [
    "import rdkit\n",
    "from rdkit import Chem\n",
    "import pandas as pd\n",
    "import numpy as np\n",
    "import os"
   ]
  },
  {
   "cell_type": "code",
   "execution_count": 10,
   "id": "52a337a4",
   "metadata": {},
   "outputs": [
    {
     "data": {
      "text/plain": [
       "'/Users/siu/Downloads/MP301_STD-2533_spiro'"
      ]
     },
     "execution_count": 10,
     "metadata": {},
     "output_type": "execute_result"
    }
   ],
   "source": [
    "cwd = '/Users/siu/Downloads/MP301_STD-2533_spiro'\n",
    "os.chdir(cwd)\n",
    "os.getcwd()"
   ]
  },
  {
   "cell_type": "code",
   "execution_count": 11,
   "id": "a0861d8e",
   "metadata": {},
   "outputs": [
    {
     "name": "stdout",
     "output_type": "stream",
     "text": [
      "smiles: 16 mols: 16\n"
     ]
    },
    {
     "data": {
      "text/html": [
       "<div>\n",
       "<style scoped>\n",
       "    .dataframe tbody tr th:only-of-type {\n",
       "        vertical-align: middle;\n",
       "    }\n",
       "\n",
       "    .dataframe tbody tr th {\n",
       "        vertical-align: top;\n",
       "    }\n",
       "\n",
       "    .dataframe thead th {\n",
       "        text-align: right;\n",
       "    }\n",
       "</style>\n",
       "<table border=\"1\" class=\"dataframe\">\n",
       "  <thead>\n",
       "    <tr style=\"text-align: right;\">\n",
       "      <th></th>\n",
       "      <th>smiles</th>\n",
       "      <th>name</th>\n",
       "    </tr>\n",
       "  </thead>\n",
       "  <tbody>\n",
       "    <tr>\n",
       "      <th>0</th>\n",
       "      <td>CNC(=O)C1=NOC(NC2=CN=C3NC=C(N4CC5(CCO5)C4)C3=C...</td>\n",
       "      <td>test1</td>\n",
       "    </tr>\n",
       "    <tr>\n",
       "      <th>1</th>\n",
       "      <td>CNC(=O)C1=NOC(NC2=CN=C3NC=C(N4CC5(COC5)C4)C3=C...</td>\n",
       "      <td>test2</td>\n",
       "    </tr>\n",
       "    <tr>\n",
       "      <th>2</th>\n",
       "      <td>CNC(=O)C1=NOC(NC2=CN=C3NC=C(N4CC5(CCC5=O)C4)C3...</td>\n",
       "      <td>test3</td>\n",
       "    </tr>\n",
       "    <tr>\n",
       "      <th>3</th>\n",
       "      <td>CNC(=O)C1=NOC(NC2=CN=C3NC=C(N4CC5(C4)CC(=O)C5)...</td>\n",
       "      <td>test4</td>\n",
       "    </tr>\n",
       "    <tr>\n",
       "      <th>4</th>\n",
       "      <td>CNC(=O)C1=NOC(NC2=CN=C3NC=C(N4CC5(C4)CCCO5)C3=...</td>\n",
       "      <td>test5</td>\n",
       "    </tr>\n",
       "  </tbody>\n",
       "</table>\n",
       "</div>"
      ],
      "text/plain": [
       "                                              smiles   name\n",
       "0  CNC(=O)C1=NOC(NC2=CN=C3NC=C(N4CC5(CCO5)C4)C3=C...  test1\n",
       "1  CNC(=O)C1=NOC(NC2=CN=C3NC=C(N4CC5(COC5)C4)C3=C...  test2\n",
       "2  CNC(=O)C1=NOC(NC2=CN=C3NC=C(N4CC5(CCC5=O)C4)C3...  test3\n",
       "3  CNC(=O)C1=NOC(NC2=CN=C3NC=C(N4CC5(C4)CC(=O)C5)...  test4\n",
       "4  CNC(=O)C1=NOC(NC2=CN=C3NC=C(N4CC5(C4)CCCO5)C3=...  test5"
      ]
     },
     "execution_count": 11,
     "metadata": {},
     "output_type": "execute_result"
    }
   ],
   "source": [
    "fn ='MP301_STD-2533_spiro.csv'\n",
    "df = pd.read_csv(fn)\n",
    "mols = [Chem.MolFromSmiles(x) for x in df['smiles']]\n",
    "print('smiles:', len(df['smiles']), 'mols:', len(mols))\n",
    "df.head()"
   ]
  },
  {
   "cell_type": "markdown",
   "id": "e96f4d4c",
   "metadata": {},
   "source": [
    "## Properties"
   ]
  },
  {
   "cell_type": "code",
   "execution_count": 12,
   "id": "3246cfa2",
   "metadata": {},
   "outputs": [],
   "source": [
    "# https://www.rdkit.org/docs/source/rdkit.Chem.rdMolDescriptors.html\n",
    "from rdkit.Chem import rdMolDescriptors"
   ]
  },
  {
   "cell_type": "code",
   "execution_count": 13,
   "id": "c6233b9a",
   "metadata": {},
   "outputs": [],
   "source": [
    "# fsp3\n",
    "prop = [rdMolDescriptors.CalcFractionCSP3(x) for x in mols]\n",
    "prop = np.round(prop, 2)\n",
    "df['fsp3'] = prop"
   ]
  },
  {
   "cell_type": "code",
   "execution_count": 14,
   "id": "3e41bfb0",
   "metadata": {},
   "outputs": [],
   "source": [
    "# rotatable bond\n",
    "from rdkit.Chem import rdMolDescriptors\n",
    "prop = [rdMolDescriptors.CalcNumRotatableBonds(x) for x in mols]\n",
    "prop = np.round(prop, 2)\n",
    "df['rotb'] = prop"
   ]
  },
  {
   "cell_type": "code",
   "execution_count": null,
   "id": "de3ec14a",
   "metadata": {},
   "outputs": [],
   "source": []
  },
  {
   "cell_type": "code",
   "execution_count": 15,
   "id": "da6e976d",
   "metadata": {},
   "outputs": [],
   "source": [
    "name = os.path.splitext(fn)[0]"
   ]
  },
  {
   "cell_type": "code",
   "execution_count": 16,
   "id": "32bac2e3",
   "metadata": {},
   "outputs": [],
   "source": [
    "df.to_csv(f'{name}_prop.csv', index=False)"
   ]
  },
  {
   "cell_type": "code",
   "execution_count": null,
   "id": "0d40be78",
   "metadata": {},
   "outputs": [],
   "source": []
  },
  {
   "cell_type": "code",
   "execution_count": null,
   "id": "4c00b355",
   "metadata": {},
   "outputs": [],
   "source": []
  }
 ],
 "metadata": {
  "kernelspec": {
   "display_name": "Python 3 (ipykernel)",
   "language": "python",
   "name": "python3"
  },
  "language_info": {
   "codemirror_mode": {
    "name": "ipython",
    "version": 3
   },
   "file_extension": ".py",
   "mimetype": "text/x-python",
   "name": "python",
   "nbconvert_exporter": "python",
   "pygments_lexer": "ipython3",
   "version": "3.9.12"
  }
 },
 "nbformat": 4,
 "nbformat_minor": 5
}
