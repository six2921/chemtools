{
 "cells": [
  {
   "cell_type": "code",
   "execution_count": 1,
   "id": "0bb0a916-991d-459d-844a-79a56a24fb2c",
   "metadata": {},
   "outputs": [],
   "source": [
    "import pandas as pd\n",
    "from rdkit import Chem\n",
    "from rdkit.Chem import PandasTools"
   ]
  },
  {
   "cell_type": "code",
   "execution_count": 2,
   "id": "07befc20-6fda-46be-b5d2-9ca97477141f",
   "metadata": {},
   "outputs": [],
   "source": [
    "df = PandasTools.LoadSDF(\"test_merged.sdf\")"
   ]
  },
  {
   "cell_type": "code",
   "execution_count": 3,
   "id": "3b4a5f83-f817-4dbe-89e2-a2cf508b408b",
   "metadata": {},
   "outputs": [
    {
     "data": {
      "text/html": [
       "<div>\n",
       "<style scoped>\n",
       "    .dataframe tbody tr th:only-of-type {\n",
       "        vertical-align: middle;\n",
       "    }\n",
       "\n",
       "    .dataframe tbody tr th {\n",
       "        vertical-align: top;\n",
       "    }\n",
       "\n",
       "    .dataframe thead th {\n",
       "        text-align: right;\n",
       "    }\n",
       "</style>\n",
       "<table border=\"1\" class=\"dataframe\">\n",
       "  <thead>\n",
       "    <tr style=\"text-align: right;\">\n",
       "      <th></th>\n",
       "      <th>ID</th>\n",
       "      <th>Supplier</th>\n",
       "      <th>clogP</th>\n",
       "      <th>RB</th>\n",
       "      <th>tPSA</th>\n",
       "      <th>Hacc</th>\n",
       "      <th>Hdon</th>\n",
       "      <th>Name</th>\n",
       "      <th>LogSw</th>\n",
       "      <th>Scheme</th>\n",
       "      <th>...</th>\n",
       "      <th>MW_FREE</th>\n",
       "      <th>LogD</th>\n",
       "      <th>BpKa</th>\n",
       "      <th>MPO</th>\n",
       "      <th>rdSMILES</th>\n",
       "      <th>rdMW</th>\n",
       "      <th>rdLogP</th>\n",
       "      <th>rdRotB</th>\n",
       "      <th>rdTPSA</th>\n",
       "      <th>ROMol</th>\n",
       "    </tr>\n",
       "  </thead>\n",
       "  <tbody>\n",
       "    <tr>\n",
       "      <th>0</th>\n",
       "      <td>10000125</td>\n",
       "      <td>ChemBridge</td>\n",
       "      <td>3.250000000000000e+000</td>\n",
       "      <td>1</td>\n",
       "      <td>4.984999999999999e+001</td>\n",
       "      <td>4</td>\n",
       "      <td>0</td>\n",
       "      <td>rel-(1S,5R)-7-[(2,5-dimethyl-3-thienyl)sulfony...</td>\n",
       "      <td>-3.377000000000000e+000</td>\n",
       "      <td>2826</td>\n",
       "      <td>...</td>\n",
       "      <td>3.305000000000000e+002</td>\n",
       "      <td></td>\n",
       "      <td></td>\n",
       "      <td></td>\n",
       "      <td>Cc1cc(S(=O)(=O)N2C[C@@H]3COC[C@H](C2)N(C)C3)c(...</td>\n",
       "      <td>330.48</td>\n",
       "      <td>1.32</td>\n",
       "      <td>2</td>\n",
       "      <td>49.85</td>\n",
       "      <td>&lt;rdkit.Chem.rdchem.Mol object at 0x7f6040ecfb50&gt;</td>\n",
       "    </tr>\n",
       "    <tr>\n",
       "      <th>1</th>\n",
       "      <td>10000301</td>\n",
       "      <td>ChemBridge</td>\n",
       "      <td>2.970000000000000e+000</td>\n",
       "      <td>5</td>\n",
       "      <td>4.941000000000003e+001</td>\n",
       "      <td>2</td>\n",
       "      <td>1</td>\n",
       "      <td>N-[2-(2,3-dihydro-1H-inden-2-yl)-1,1-dimethyle...</td>\n",
       "      <td>-4.234000000000000e+000</td>\n",
       "      <td>2755</td>\n",
       "      <td>...</td>\n",
       "      <td>3.425000000000000e+002</td>\n",
       "      <td></td>\n",
       "      <td></td>\n",
       "      <td></td>\n",
       "      <td>CCN1CC(C(=O)NC(C)(C)CC2Cc3ccccc3C2)CCC1=O</td>\n",
       "      <td>342.48</td>\n",
       "      <td>2.94</td>\n",
       "      <td>5</td>\n",
       "      <td>49.41</td>\n",
       "      <td>&lt;rdkit.Chem.rdchem.Mol object at 0x7f5eff499150&gt;</td>\n",
       "    </tr>\n",
       "  </tbody>\n",
       "</table>\n",
       "<p>2 rows × 24 columns</p>\n",
       "</div>"
      ],
      "text/plain": [
       "         ID    Supplier                   clogP RB                    tPSA  \\\n",
       "0  10000125  ChemBridge  3.250000000000000e+000  1  4.984999999999999e+001   \n",
       "1  10000301  ChemBridge  2.970000000000000e+000  5  4.941000000000003e+001   \n",
       "\n",
       "  Hacc Hdon                                               Name  \\\n",
       "0    4    0  rel-(1S,5R)-7-[(2,5-dimethyl-3-thienyl)sulfony...   \n",
       "1    2    1  N-[2-(2,3-dihydro-1H-inden-2-yl)-1,1-dimethyle...   \n",
       "\n",
       "                     LogSw Scheme  ...                 MW_FREE LogD BpKa MPO  \\\n",
       "0  -3.377000000000000e+000   2826  ...  3.305000000000000e+002                 \n",
       "1  -4.234000000000000e+000   2755  ...  3.425000000000000e+002                 \n",
       "\n",
       "                                            rdSMILES    rdMW rdLogP rdRotB  \\\n",
       "0  Cc1cc(S(=O)(=O)N2C[C@@H]3COC[C@H](C2)N(C)C3)c(...  330.48   1.32      2   \n",
       "1          CCN1CC(C(=O)NC(C)(C)CC2Cc3ccccc3C2)CCC1=O  342.48   2.94      5   \n",
       "\n",
       "  rdTPSA                                             ROMol  \n",
       "0  49.85  <rdkit.Chem.rdchem.Mol object at 0x7f6040ecfb50>  \n",
       "1  49.41  <rdkit.Chem.rdchem.Mol object at 0x7f5eff499150>  \n",
       "\n",
       "[2 rows x 24 columns]"
      ]
     },
     "execution_count": 3,
     "metadata": {},
     "output_type": "execute_result"
    }
   ],
   "source": [
    "df[:2]"
   ]
  },
  {
   "cell_type": "code",
   "execution_count": null,
   "id": "0bdcad7c-92e6-4e22-92d9-fa05009fa887",
   "metadata": {},
   "outputs": [],
   "source": []
  },
  {
   "cell_type": "markdown",
   "id": "5f6b33e2-dc16-45f6-b15b-0c65453323a5",
   "metadata": {},
   "source": [
    "## 데이터 타입 전처리"
   ]
  },
  {
   "cell_type": "code",
   "execution_count": 4,
   "id": "b6af9c00-21e9-4b6f-89ec-273578d7c7db",
   "metadata": {},
   "outputs": [
    {
     "data": {
      "text/plain": [
       "ID                 object\n",
       "Supplier           object\n",
       "clogP              object\n",
       "RB                 object\n",
       "tPSA               object\n",
       "Hacc               object\n",
       "Hdon               object\n",
       "Name               object\n",
       "LogSw              object\n",
       "Scheme             object\n",
       "Library            object\n",
       "StereoChemistry    object\n",
       "MW                 object\n",
       "SaltForm           object\n",
       "MW_FREE            object\n",
       "LogD               object\n",
       "BpKa               object\n",
       "MPO                object\n",
       "rdSMILES           object\n",
       "rdMW               object\n",
       "rdLogP             object\n",
       "rdRotB             object\n",
       "rdTPSA             object\n",
       "ROMol              object\n",
       "dtype: object"
      ]
     },
     "execution_count": 4,
     "metadata": {},
     "output_type": "execute_result"
    }
   ],
   "source": [
    "df.dtypes"
   ]
  },
  {
   "cell_type": "code",
   "execution_count": 5,
   "id": "200b380d-6b4d-4ffd-b389-08ec3c373eb4",
   "metadata": {},
   "outputs": [],
   "source": [
    "int_cols = []\n",
    "float_cols = ['rdMW', 'rdLogP', 'rdRotB', 'rdTPSA']"
   ]
  },
  {
   "cell_type": "code",
   "execution_count": 6,
   "id": "aa810fba-aec0-46cc-b65d-85b277a4865c",
   "metadata": {},
   "outputs": [],
   "source": [
    "# int_cols에 있는 컬럼들을 int 타입으로 변환\n",
    "for col in int_cols:\n",
    "    df[col] = df[col].astype(int)\n",
    "\n",
    "# float_cols에 있는 컬럼들을 float 타입으로 변환\n",
    "for col in float_cols:\n",
    "    df[col] = df[col].astype(float)"
   ]
  },
  {
   "cell_type": "code",
   "execution_count": 7,
   "id": "7eb8fd71-60ab-4971-9d40-079b26b19afd",
   "metadata": {},
   "outputs": [
    {
     "data": {
      "text/plain": [
       "ID                  object\n",
       "Supplier            object\n",
       "clogP               object\n",
       "RB                  object\n",
       "tPSA                object\n",
       "Hacc                object\n",
       "Hdon                object\n",
       "Name                object\n",
       "LogSw               object\n",
       "Scheme              object\n",
       "Library             object\n",
       "StereoChemistry     object\n",
       "MW                  object\n",
       "SaltForm            object\n",
       "MW_FREE             object\n",
       "LogD                object\n",
       "BpKa                object\n",
       "MPO                 object\n",
       "rdSMILES            object\n",
       "rdMW               float64\n",
       "rdLogP             float64\n",
       "rdRotB             float64\n",
       "rdTPSA             float64\n",
       "ROMol               object\n",
       "dtype: object"
      ]
     },
     "execution_count": 7,
     "metadata": {},
     "output_type": "execute_result"
    }
   ],
   "source": [
    "df.dtypes"
   ]
  },
  {
   "cell_type": "code",
   "execution_count": null,
   "id": "a05558b5-31fb-4624-a96e-4b608a941bc6",
   "metadata": {},
   "outputs": [],
   "source": []
  },
  {
   "cell_type": "markdown",
   "id": "dbe4a046-0e73-42da-aad8-79d9c2f3ec83",
   "metadata": {},
   "source": [
    "## 그래프 그리기"
   ]
  },
  {
   "cell_type": "code",
   "execution_count": 60,
   "id": "644bc6db-2f2c-4bab-8c9c-452e85eda8e6",
   "metadata": {},
   "outputs": [
    {
     "data": {
      "application/vnd.jupyter.widget-view+json": {
       "model_id": "ce27943701024b44a95a02c2ebb3e799",
       "version_major": 2,
       "version_minor": 0
      },
      "text/plain": [
       "HBox(children=(VBox(children=(Dropdown(description='Column:', layout=Layout(width='70%'), options=('rdMW', 'rd…"
      ]
     },
     "metadata": {},
     "output_type": "display_data"
    }
   ],
   "source": [
    "import pandas as pd\n",
    "import matplotlib.pyplot as plt\n",
    "from ipywidgets import interactive, widgets, HBox, VBox, Layout\n",
    "from IPython.display import display, clear_output\n",
    "\n",
    "# 히스토그램 그리는 함수 정의\n",
    "def plot_histogram(column_name, min_val, max_val, bin_width, aspect_ratio):\n",
    "    data = df[column_name]\n",
    "    bins = range(min_val, max_val + bin_width, bin_width)\n",
    "    \n",
    "    plt.figure(figsize=(6 * aspect_ratio, 6))\n",
    "    n, bins, patches = plt.hist(data[(data >= min_val) & (data <= max_val)], bins=bins, edgecolor='black')\n",
    "    plt.xlabel(column_name)\n",
    "    plt.ylabel('Count')\n",
    "    \n",
    "    # 막대 위에 빈도 수 표시\n",
    "    for i in range(len(patches)):\n",
    "        plt.text(patches[i].get_x() + patches[i].get_width() / 2, patches[i].get_height(),\n",
    "                 str(int(n[i])), ha='center', va='bottom')\n",
    "    \n",
    "    # x축 눈금 간격 설정\n",
    "    plt.xticks(range(min_val, max_val + bin_width, bin_width))\n",
    "    \n",
    "    # 그리드 적용\n",
    "    plt.grid(True)\n",
    "    \n",
    "    plt.show()\n",
    "\n",
    "# int 또는 float 타입의 컬럼만 선택 가능하도록 필터링\n",
    "numeric_columns = df.select_dtypes(include=['int', 'float']).columns.tolist()\n",
    "\n",
    "# 위젯 정의\n",
    "column_name_widget = widgets.Dropdown(\n",
    "    options=numeric_columns,\n",
    "    value=numeric_columns[0],\n",
    "    description='Column:',\n",
    "    style={'description_width': 'initial'},\n",
    "    layout=Layout(width='70%')\n",
    ")\n",
    "\n",
    "min_val_widget = widgets.IntText(description='Min Value:', style={'description_width': 'initial'}, layout=Layout(width='70%'))\n",
    "max_val_widget = widgets.IntText(description='Max Value:', style={'description_width': 'initial'}, layout=Layout(width='70%'))\n",
    "bin_width_widget = widgets.IntText(value=1, description='Bin Width:', style={'description_width': 'initial'}, layout=Layout(width='70%'))\n",
    "aspect_ratio_widget = widgets.FloatText(value=1.0, description='Aspect Ratio:', style={'description_width': 'initial'}, layout=Layout(width='70%'))\n",
    "\n",
    "# 컬럼 선택 시 최소값과 최대값을 업데이트하는 함수\n",
    "def update_min_max(*args):\n",
    "    column_name = column_name_widget.value\n",
    "    min_val_widget.value = df[column_name].min()\n",
    "    max_val_widget.value = df[column_name].max()\n",
    "\n",
    "# 컬럼 이름 선택 시 트리거\n",
    "column_name_widget.observe(update_min_max, names='value')\n",
    "\n",
    "# 초기 값 설정\n",
    "update_min_max()\n",
    "\n",
    "# 입력란과 그래프를 각각 왼쪽과 오른쪽에 배치\n",
    "input_widgets = VBox(\n",
    "    [column_name_widget, min_val_widget, max_val_widget, bin_width_widget, aspect_ratio_widget]\n",
    ")\n",
    "\n",
    "output = widgets.Output()\n",
    "\n",
    "def update_graph(*args):\n",
    "    with output:\n",
    "        clear_output(wait=True)\n",
    "        plot_histogram(column_name_widget.value, min_val_widget.value, max_val_widget.value, bin_width_widget.value, aspect_ratio_widget.value)\n",
    "\n",
    "# 각 위젯의 값이 변경될 때마다 그래프 업데이트\n",
    "for widget in [column_name_widget, min_val_widget, max_val_widget, bin_width_widget, aspect_ratio_widget]:\n",
    "    widget.observe(update_graph, 'value')\n",
    "\n",
    "# 초기 그래프 생성\n",
    "update_graph()\n",
    "\n",
    "# 입력란과 그래프를 나란히 배치\n",
    "ui = HBox([input_widgets, output], layout=Layout(align_items='flex-start'))\n",
    "display(ui)"
   ]
  },
  {
   "cell_type": "code",
   "execution_count": null,
   "id": "047022df-88c4-430c-a828-04df6b5d11e2",
   "metadata": {},
   "outputs": [],
   "source": []
  }
 ],
 "metadata": {
  "kernelspec": {
   "display_name": "Python 3 (ipykernel)",
   "language": "python",
   "name": "python3"
  },
  "language_info": {
   "codemirror_mode": {
    "name": "ipython",
    "version": 3
   },
   "file_extension": ".py",
   "mimetype": "text/x-python",
   "name": "python",
   "nbconvert_exporter": "python",
   "pygments_lexer": "ipython3",
   "version": "3.12.2"
  }
 },
 "nbformat": 4,
 "nbformat_minor": 5
}
